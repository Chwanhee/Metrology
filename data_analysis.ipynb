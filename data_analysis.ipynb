{
 "cells": [
  {
   "cell_type": "code",
   "execution_count": 2,
   "metadata": {},
   "outputs": [],
   "source": [
    "import numpy as np\n",
    "import matplotlib.pyplot as plt\n",
    "import matplotlib.gridspec as gs\n",
    "\n",
    "import tqdm\n",
    "import pickle\n",
    "\n",
    "import uncertainties as uct\n",
    "from uncertainties import unumpy as unp\n",
    "\n",
    "from scipy.optimize import curve_fit"
   ]
  },
  {
   "cell_type": "markdown",
   "metadata": {},
   "source": [
    "# 1. Inverting Amplifier"
   ]
  },
  {
   "cell_type": "markdown",
   "metadata": {},
   "source": [
    "### 1.1 Transfer curve by frequencies"
   ]
  },
  {
   "cell_type": "code",
   "execution_count": null,
   "metadata": {},
   "outputs": [],
   "source": [
    "\n",
    "handle = open(\"inverting_amp_high.pkl\", 'rb')\n",
    "data_h=pickle.load(handle)\n",
    "handle.close()\n",
    "\n",
    "handle = open(\"inverting_amp_low.pkl\", 'rb')\n",
    "data_l=pickle.load(handle)\n",
    "handle.close()\n",
    "\n",
    "R1 = data_l[\"R1\"]\n",
    "freq = data_l[\"Freq\"]\n",
    "f = freq[6]\n",
    "\n",
    "T, Ch1, Ch2 = data_l[f]\n",
    "length = 100\n",
    "T = T[:length]\n",
    "Ch1 = Ch1[:length]\n",
    "Ch2 = Ch2[:length]\n",
    "\n",
    "fig = plt.figure(figsize=(8,8))\n",
    "grid = gs.GridSpec(2,2,wspace=0.1,)\n",
    "\n",
    "axs1 = plt.subplot(grid[0,0])\n",
    "axs2 = plt.subplot(grid[0,1])\n",
    "axs3 = plt.subplot(grid[1,:])\n",
    "\n",
    "axs1.scatter(T,Ch1,s=0.3,color=\"orange\")\n",
    "axs2.scatter(T,Ch2,s=0.3,color=\"blue\")\n",
    "axs3.scatter(Ch1,Ch2,s=0.3)"
   ]
  },
  {
   "cell_type": "markdown",
   "metadata": {},
   "source": [
    "### 1.2. Transfer curve by resistances"
   ]
  },
  {
   "cell_type": "code",
   "execution_count": null,
   "metadata": {},
   "outputs": [],
   "source": [
    "def linear(x,a,b):\n",
    "    return a*x+b\n",
    "\n",
    "def fit(x,a,b,reg1,reg2):\n",
    "    reg1,reg2 = int(reg1),int(reg2)\n",
    "    V1 = linear(x[reg1],a,b)\n",
    "    y1 = np.full(reg1,V1)\n",
    "    y2 = linear(x[reg1:-reg2],a,b)\n",
    "    V2 = linear(x[-reg2],a,b)\n",
    "    y3 = np.full(reg2,V2)\n",
    "    y = np.concatenate((y1,y2,y3))\n",
    "    return y\n",
    "\n",
    "########## End of Function Defining ##########\n",
    "\n",
    "fig = plt.figure(figsize=(12,5))\n",
    "grid = gs.GridSpec(1,2)\n",
    "axs1 = plt.subplot(grid[0])\n",
    "axs2 = plt.subplot(grid[1])\n",
    "\n",
    "handle = open(\"inverting_amp.pkl\", 'rb')\n",
    "data=pickle.load(handle)\n",
    "handle.close()\n",
    "\n",
    "R1 = data[\"R1\"]\n",
    "Res2 = data[\"R2\"]\n",
    "E_sat = 6\n",
    "\n",
    "colours = plt.cm.viridis(np.linspace(0, 1, len(Res2)))\n",
    "\n",
    "X = np.linspace(-30,10)\n",
    "axs2.plot(X,X,color=\"black\",alpha=0.01)\n",
    "\n",
    "m_values = []\n",
    "for i, R2 in enumerate(Res2):\n",
    "    t,Vin,Vout = data[R2]\n",
    "    \n",
    "    # Vin = Vin[:200]\n",
    "    # Vout = Vout[:200]\n",
    "    # Sort time series by increasing Ch1 values. \n",
    "    indices = np.argsort(Vin) \n",
    "    Vin = Vin[indices]\n",
    "    Vout = Vout[indices]\n",
    "\n",
    "    E_sat = 6\n",
    "    amp = -R2/R1\n",
    "    trial = [amp,25e-6,1,1]\n",
    "    if R2 >= 800:\n",
    "        trial = [amp,25e-6,1900,1900]\n",
    "    popt,pcov = curve_fit(fit,Vin,Vout,p0=trial,maxfev = 10800)\n",
    "    print(popt)\n",
    "    perr = np.sqrt(np.diag(pcov))\n",
    "    m = -R2/R1\n",
    "    axs1.plot(Vin,fit(Vin,*popt),color=\"black\",alpha=0.3)\n",
    "    if R2 >= 1000: \n",
    "        R2 /= 1000\n",
    "        label = fr\"{R2}k$\\Omega$\"\n",
    "    else: label = fr\"{R2}$\\Omega$\"\n",
    "    axs1.scatter(Vin,Vout\n",
    "                 ,s=0.5,alpha=0.6,color=colours[i]\n",
    "                 )\n",
    "    \n",
    "    axs2.errorbar(m,popt[0]\n",
    "                  ,label=fr\"{R2}k$\\Omega$\"\n",
    "                  ,yerr = perr[0]\n",
    "                  ,fmt=\">\",markersize=\"9\",color = colours[i]\n",
    "                  )\n",
    "axs2.legend(loc=\"upper left\")\n",
    "axs1.set_ylim(-7,7)\n",
    "axs1.set_xlim(-6,6)\n",
    "axs1.set_ylabel(\"Output Voltage (V)\")\n",
    "axs1.set_xlabel(\"Input Voltage (V)\")\n",
    "\n",
    "axs2.set_ylim(-25,5)\n",
    "axs2.set_xlim(-25,5)\n",
    "axs2.plot(X,X,color=\"black\",alpha=0.2)\n",
    "axs2.set_ylabel(r\"Measured Gain\")\n",
    "axs2.set_xlabel(r\"Predicted Gain\")\n",
    "\n",
    "fig.savefig(\"figures/inverting_slops.png\")"
   ]
  },
  {
   "cell_type": "markdown",
   "metadata": {},
   "source": [
    "# Individual NICs"
   ]
  },
  {
   "cell_type": "code",
   "execution_count": 61,
   "metadata": {},
   "outputs": [
    {
     "name": "stdout",
     "output_type": "stream",
     "text": [
      "<class 'int'>\n",
      "8192 8192 8192\n",
      "220 220 2200 5000\n",
      "[-0.0004517969662140368, 0.004545454545454545, 25000000.0, 0.02727272727272727, 5000]\n",
      "10000\n"
     ]
    },
    {
     "ename": "ValueError",
     "evalue": "operands could not be broadcast together with shapes (10000,) (8192,) ",
     "output_type": "error",
     "traceback": [
      "\u001b[1;31m---------------------------------------------------------------------------\u001b[0m",
      "\u001b[1;31mValueError\u001b[0m                                Traceback (most recent call last)",
      "\u001b[1;32mc:\\Users\\chwan\\Documents\\IntPhysExp\\IntPhys2\\Metrology\\data_analysis.ipynb Cell 8\u001b[0m line \u001b[0;36m4\n\u001b[0;32m     <a href='vscode-notebook-cell:/c%3A/Users/chwan/Documents/IntPhysExp/IntPhys2/Metrology/data_analysis.ipynb#W6sZmlsZQ%3D%3D?line=40'>41</a>\u001b[0m trial \u001b[39m=\u001b[39m [m_int,m_ext,bint,bext,reg]\n\u001b[0;32m     <a href='vscode-notebook-cell:/c%3A/Users/chwan/Documents/IntPhysExp/IntPhys2/Metrology/data_analysis.ipynb#W6sZmlsZQ%3D%3D?line=41'>42</a>\u001b[0m \u001b[39mprint\u001b[39m(trial)\n\u001b[1;32m---> <a href='vscode-notebook-cell:/c%3A/Users/chwan/Documents/IntPhysExp/IntPhys2/Metrology/data_analysis.ipynb#W6sZmlsZQ%3D%3D?line=43'>44</a>\u001b[0m popt,_ \u001b[39m=\u001b[39m curve_fit(fit,Ch1,Ch2,p0\u001b[39m=\u001b[39mtrial,maxfev \u001b[39m=\u001b[39m \u001b[39m2800\u001b[39m)\n\u001b[0;32m     <a href='vscode-notebook-cell:/c%3A/Users/chwan/Documents/IntPhysExp/IntPhys2/Metrology/data_analysis.ipynb#W6sZmlsZQ%3D%3D?line=44'>45</a>\u001b[0m ax\u001b[39m.\u001b[39mscatter(Ch1,Ch2\u001b[39m/\u001b[39mR_i,label\u001b[39m=\u001b[39m\u001b[39mfr\u001b[39m\u001b[39m\"\u001b[39m\u001b[39m{\u001b[39;00mR_i\u001b[39m}\u001b[39;00m\u001b[39m$\u001b[39m\u001b[39m\\\u001b[39m\u001b[39mOmega$\u001b[39m\u001b[39m\"\u001b[39m,s\u001b[39m=\u001b[39m\u001b[39m0.5\u001b[39m,color\u001b[39m=\u001b[39m\u001b[39m\"\u001b[39m\u001b[39mred\u001b[39m\u001b[39m\"\u001b[39m)\n\u001b[0;32m     <a href='vscode-notebook-cell:/c%3A/Users/chwan/Documents/IntPhysExp/IntPhys2/Metrology/data_analysis.ipynb#W6sZmlsZQ%3D%3D?line=45'>46</a>\u001b[0m ax\u001b[39m.\u001b[39mlegend(loc\u001b[39m=\u001b[39m\u001b[39m\"\u001b[39m\u001b[39mlower left\u001b[39m\u001b[39m\"\u001b[39m)\n",
      "File \u001b[1;32mc:\\ProgramData\\anaconda3\\envs\\yeerum\\Lib\\site-packages\\scipy\\optimize\\_minpack_py.py:859\u001b[0m, in \u001b[0;36mcurve_fit\u001b[1;34m(f, xdata, ydata, p0, sigma, absolute_sigma, check_finite, bounds, method, jac, full_output, **kwargs)\u001b[0m\n\u001b[0;32m    856\u001b[0m \u001b[39mif\u001b[39;00m ydata\u001b[39m.\u001b[39msize \u001b[39m!=\u001b[39m \u001b[39m1\u001b[39m \u001b[39mand\u001b[39;00m n \u001b[39m>\u001b[39m ydata\u001b[39m.\u001b[39msize:\n\u001b[0;32m    857\u001b[0m     \u001b[39mraise\u001b[39;00m \u001b[39mTypeError\u001b[39;00m(\u001b[39mf\u001b[39m\u001b[39m\"\u001b[39m\u001b[39mThe number of func parameters=\u001b[39m\u001b[39m{\u001b[39;00mn\u001b[39m}\u001b[39;00m\u001b[39m must not\u001b[39m\u001b[39m\"\u001b[39m\n\u001b[0;32m    858\u001b[0m                     \u001b[39mf\u001b[39m\u001b[39m\"\u001b[39m\u001b[39m exceed the number of data points=\u001b[39m\u001b[39m{\u001b[39;00mydata\u001b[39m.\u001b[39msize\u001b[39m}\u001b[39;00m\u001b[39m\"\u001b[39m)\n\u001b[1;32m--> 859\u001b[0m res \u001b[39m=\u001b[39m leastsq(func, p0, Dfun\u001b[39m=\u001b[39mjac, full_output\u001b[39m=\u001b[39m\u001b[39m1\u001b[39m, \u001b[39m*\u001b[39m\u001b[39m*\u001b[39mkwargs)\n\u001b[0;32m    860\u001b[0m popt, pcov, infodict, errmsg, ier \u001b[39m=\u001b[39m res\n\u001b[0;32m    861\u001b[0m ysize \u001b[39m=\u001b[39m \u001b[39mlen\u001b[39m(infodict[\u001b[39m'\u001b[39m\u001b[39mfvec\u001b[39m\u001b[39m'\u001b[39m])\n",
      "File \u001b[1;32mc:\\ProgramData\\anaconda3\\envs\\yeerum\\Lib\\site-packages\\scipy\\optimize\\_minpack_py.py:413\u001b[0m, in \u001b[0;36mleastsq\u001b[1;34m(func, x0, args, Dfun, full_output, col_deriv, ftol, xtol, gtol, maxfev, epsfcn, factor, diag)\u001b[0m\n\u001b[0;32m    411\u001b[0m \u001b[39mif\u001b[39;00m \u001b[39mnot\u001b[39;00m \u001b[39misinstance\u001b[39m(args, \u001b[39mtuple\u001b[39m):\n\u001b[0;32m    412\u001b[0m     args \u001b[39m=\u001b[39m (args,)\n\u001b[1;32m--> 413\u001b[0m shape, dtype \u001b[39m=\u001b[39m _check_func(\u001b[39m'\u001b[39m\u001b[39mleastsq\u001b[39m\u001b[39m'\u001b[39m, \u001b[39m'\u001b[39m\u001b[39mfunc\u001b[39m\u001b[39m'\u001b[39m, func, x0, args, n)\n\u001b[0;32m    414\u001b[0m m \u001b[39m=\u001b[39m shape[\u001b[39m0\u001b[39m]\n\u001b[0;32m    416\u001b[0m \u001b[39mif\u001b[39;00m n \u001b[39m>\u001b[39m m:\n",
      "File \u001b[1;32mc:\\ProgramData\\anaconda3\\envs\\yeerum\\Lib\\site-packages\\scipy\\optimize\\_minpack_py.py:26\u001b[0m, in \u001b[0;36m_check_func\u001b[1;34m(checker, argname, thefunc, x0, args, numinputs, output_shape)\u001b[0m\n\u001b[0;32m     24\u001b[0m \u001b[39mdef\u001b[39;00m \u001b[39m_check_func\u001b[39m(checker, argname, thefunc, x0, args, numinputs,\n\u001b[0;32m     25\u001b[0m                 output_shape\u001b[39m=\u001b[39m\u001b[39mNone\u001b[39;00m):\n\u001b[1;32m---> 26\u001b[0m     res \u001b[39m=\u001b[39m atleast_1d(thefunc(\u001b[39m*\u001b[39m((x0[:numinputs],) \u001b[39m+\u001b[39m args)))\n\u001b[0;32m     27\u001b[0m     \u001b[39mif\u001b[39;00m (output_shape \u001b[39mis\u001b[39;00m \u001b[39mnot\u001b[39;00m \u001b[39mNone\u001b[39;00m) \u001b[39mand\u001b[39;00m (shape(res) \u001b[39m!=\u001b[39m output_shape):\n\u001b[0;32m     28\u001b[0m         \u001b[39mif\u001b[39;00m (output_shape[\u001b[39m0\u001b[39m] \u001b[39m!=\u001b[39m \u001b[39m1\u001b[39m):\n",
      "File \u001b[1;32mc:\\ProgramData\\anaconda3\\envs\\yeerum\\Lib\\site-packages\\scipy\\optimize\\_minpack_py.py:501\u001b[0m, in \u001b[0;36m_wrap_func.<locals>.func_wrapped\u001b[1;34m(params)\u001b[0m\n\u001b[0;32m    500\u001b[0m \u001b[39mdef\u001b[39;00m \u001b[39mfunc_wrapped\u001b[39m(params):\n\u001b[1;32m--> 501\u001b[0m     \u001b[39mreturn\u001b[39;00m func(xdata, \u001b[39m*\u001b[39mparams) \u001b[39m-\u001b[39m ydata\n",
      "\u001b[1;31mValueError\u001b[0m: operands could not be broadcast together with shapes (10000,) (8192,) "
     ]
    },
    {
     "data": {
      "image/png": "[encoded data removed]",
      "text/plain": [
       "<Figure size 800x700 with 2 Axes>"
      ]
     },
     "metadata": {},
     "output_type": "display_data"
    }
   ],
   "source": [
    "def linear(x,a,b):\n",
    "    return a*x+b\n",
    "\n",
    "def fit(x,aint,aext,bint,bext,reg):\n",
    "    reg = int(reg)\n",
    "    y1 = linear(x[:reg],aext,bext)\n",
    "    y2 = linear(x[reg:-reg],aint,bint)\n",
    "    y3 = linear(x[-reg:],aext,-bext)\n",
    "    y = np.concatenate((y1,y2,y3))\n",
    "    print(len(y))\n",
    "    return np.concatenate((y1,y2,y3))\n",
    "\n",
    "########## End of Function Defining ##########\n",
    "\n",
    "fig,axs = plt.subplots(2,1,figsize=(8,7),sharex=True,sharey=True)\n",
    "\n",
    "handle = open(\"NIC_transfer_curve.pkl\", 'rb')\n",
    "data=pickle.load(handle)\n",
    "handle.close()\n",
    "\n",
    "Vcc = data[\"Vcc\"][0]\n",
    "print(type(Vcc))\n",
    "A = 2000\n",
    "\n",
    "for i,R_i in enumerate([data[\"Res\"][0],data[\"Res\"][3]]):\n",
    "    ax = axs[i]\n",
    "    T,Ch1,Ch2 = data[R_i]\n",
    "    print(len(T),len(Ch1),len(Ch2))\n",
    "    if i==0:\n",
    "        R1,R2,R3 = data[\"Res\"][:3]\n",
    "        reg = 5000\n",
    "    else: \n",
    "        R1,R2,R3 = data[\"Res\"][3:]\n",
    "        reg = 1000\n",
    "    print(R1,R2,R3,reg)\n",
    "    m_ext = 1/R1\n",
    "    m_int = ((1-A)*R2+R3)/(R1*(R2+(1+A)*R3))\n",
    "    bint = 25e6\n",
    "    bext = m_ext*Vcc\n",
    "\n",
    "    trial = [m_int,m_ext,bint,bext,reg]\n",
    "    print(trial)\n",
    "\n",
    "    popt,_ = curve_fit(fit,Ch1,Ch2,p0=trial,maxfev = 2800)\n",
    "    ax.scatter(Ch1,Ch2/R_i,label=fr\"{R_i}$\\Omega$\",s=0.5,color=\"red\")\n",
    "    ax.legend(loc=\"lower left\")"
   ]
  },
  {
   "cell_type": "code",
   "execution_count": 57,
   "metadata": {},
   "outputs": [
    {
     "name": "stdout",
     "output_type": "stream",
     "text": [
      "[0. 0. 0. ... 0. 0. 0.]\n",
      "[ 2.97883856e-06 -1.38179204e-05 -3.06146793e-05 ...  5.33691154e-05\n",
      "  3.65723564e-05  1.97755975e-05]\n",
      "[-5.91393811e-05 -8.61821630e-05 -1.15408524e-04 ...  2.66920571e-05\n",
      " -3.50724843e-07 -2.95770854e-05]\n"
     ]
    },
    {
     "data": {
      "image/png": "[encoded data removed]",
      "text/plain": [
       "<Figure size 640x480 with 1 Axes>"
      ]
     },
     "metadata": {},
     "output_type": "display_data"
    }
   ],
   "source": [
    "handle = open(\"NIC_transfer_curve.pkl\", 'rb')\n",
    "data=pickle.load(handle)\n",
    "handle.close()\n",
    "\n",
    "T = np.full(len(data[220][0]),0.)\n",
    "Ch2 = np.full(len(data[220][0]),0.)\n",
    "print(Ch2)\n",
    "for R_i in [data[\"Res\"][0],data[\"Res\"][3]]:\n",
    "    t,ch1,ch2 = data[R_i]\n",
    "    T += t\n",
    "    Ch2 += ch2/R_i ;print(Ch2)\n",
    "    \n",
    "plt.scatter(ch1,Ch2,s=0.1)\n",
    "plt.grid()"
   ]
  }
 ],
 "metadata": {
  "kernelspec": {
   "display_name": "yeerum",
   "language": "python",
   "name": "python3"
  },
  "language_info": {
   "codemirror_mode": {
    "name": "ipython",
    "version": 3
   },
   "file_extension": ".py",
   "mimetype": "text/x-python",
   "name": "python",
   "nbconvert_exporter": "python",
   "pygments_lexer": "ipython3",
   "version": "3.11.4"
  }
 },
 "nbformat": 4,
 "nbformat_minor": 2
}
