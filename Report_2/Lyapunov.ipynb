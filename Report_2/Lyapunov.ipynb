{
 "cells": [
  {
   "cell_type": "code",
   "execution_count": 1,
   "metadata": {
    "ExecuteTime": {
     "end_time": "2023-12-10T10:39:00.013111Z",
     "start_time": "2023-12-10T10:38:58.803808Z"
    }
   },
   "outputs": [],
   "source": [
    "import numpy as np\n",
    "import matplotlib.pyplot as plt\n",
    "from scipy.optimize import curve_fit, minimize\n",
    "import pandas as pd\n",
    "from scipy.signal import find_peaks\n",
    "from matplotlib.gridspec import GridSpec\n",
    "from matplotlib import cm\n",
    "import matplotlib as mpl\n",
    "from scipy.integrate import odeint\n",
    "from scipy.interpolate import CubicSpline\n",
    "import scipy\n",
    "\n",
    "import time\n",
    "from tqdm import tqdm, trange"
   ]
  },
  {
   "cell_type": "markdown",
   "metadata": {},
   "source": [
    "Lyapunov exponents"
   ]
  },
  {
   "cell_type": "code",
   "execution_count": 9,
   "metadata": {
    "ExecuteTime": {
     "end_time": "2023-12-10T10:41:54.162460Z",
     "start_time": "2023-12-10T10:41:54.146340Z"
    }
   },
   "outputs": [],
   "source": [
    "def norm(x, y):\n",
    "    return np.max(abs(x-y),axis=1)"
   ]
  },
  {
   "cell_type": "code",
   "execution_count": 11,
   "metadata": {
    "ExecuteTime": {
     "end_time": "2023-12-10T10:45:21.644991Z",
     "start_time": "2023-12-10T10:45:21.624644Z"
    },
    "code_folding": [
     20
    ]
   },
   "outputs": [],
   "source": [
    "def Lyapunov(t, x, K=25, d_E=22, d_M=6, rM=0.05, rm=0.01):\n",
    "    N=len(x)\n",
    "    tau=t[1]-t[0]\n",
    "    \n",
    "    # matrix dimension\n",
    "    m=int((d_E-1)/(d_M-1))\n",
    "\n",
    "    # r: radius of the 'ball'\n",
    "    rM=0.05; rm=0.01\n",
    "\n",
    "    # reconstruct x by time delay\n",
    "    x_re=np.zeros((N-2*d_E+1, d_M))\n",
    "    for i in range(N-2*d_E): x_re[i]=x[i:i+d_E:m]\n",
    "\n",
    "    # find neighbors for each i and least square\n",
    "    Q=np.identity(d_M); DIAG=np.zeros(d_M)\n",
    "    \n",
    "    #Build k-d tree\n",
    "    kdtree = cKDTree(x_re)\n",
    "    \n",
    "    for i in range(K):\n",
    "        i0=1+i*m\n",
    "        inner_member = set(kdtree.query_ball_point(x_re[i0],rm))\n",
    "        outer_member = set(kdtree.query_ball_point(x_re[i0],rM))\n",
    "        SE_r = outer_member-inner_member #with in rm<r<rM\n",
    "        n_temp=len(SE_r); init_temp=1/d_M*np.ones(d_M)\n",
    "        def LS(a):\n",
    "            temp=0\n",
    "            for j in SE_r:\n",
    "                ttemp=0\n",
    "                for k in range(d_M):\n",
    "                    ttemp += a[k]*(x_re[j][k]-x_re[i0][k])  # -(x_re[j][:-1]-x_re[i][:-1]))\n",
    "                temp+=(ttemp-(x[j+d_M*m]-x[i0+d_M*m]))**2\n",
    "            return temp\n",
    "        T=np.zeros((d_M, d_M))\n",
    "        for i in range(d_M-1): T[i][i+1]=1\n",
    "        result=minimize(LS, init_temp, method='Powell')\n",
    "        T[-1, :]=result.x\n",
    "        #print(T)\n",
    "        #T[d_M-1]=minimize(LS, init_temp, method='Powell').x\n",
    "        Q, R=np.linalg.qr(T@Q)\n",
    "        \n",
    "        # Ensure all diagonal elements of R are positive\n",
    "        signs = np.sign(np.diag(R))\n",
    "        Q *= signs\n",
    "        R *= signs\n",
    "\n",
    "        #print(R)\n",
    "        DIAG+=np.diag(scipy.linalg.logm(R))\n",
    "\n",
    "    return DIAG/(tau*K*m)"
   ]
  },
  {
   "cell_type": "code",
   "execution_count": null,
   "metadata": {
    "ExecuteTime": {
     "start_time": "2023-12-10T10:45:37.920Z"
    }
   },
   "outputs": [
    {
     "name": "stderr",
     "output_type": "stream",
     "text": [
      " 17%|████████████▊                                                               | 1667/9901 [11:08<2:34:01,  1.12s/it]"
     ]
    },
    {
     "name": "stdout",
     "output_type": "stream",
     "text": [
      "logm result may be inaccurate, approximate err = 2.2629186013603451e-13\n"
     ]
    },
    {
     "name": "stderr",
     "output_type": "stream",
     "text": [
      " 27%|████████████████████▋                                                       | 2698/9901 [15:55<1:34:32,  1.27it/s]"
     ]
    },
    {
     "name": "stdout",
     "output_type": "stream",
     "text": [
      "logm result may be inaccurate, approximate err = 6.484850092494254e-12\n"
     ]
    },
    {
     "name": "stderr",
     "output_type": "stream",
     "text": [
      " 33%|█████████████████████████                                                   | 3273/9901 [19:50<2:03:18,  1.12s/it]"
     ]
    },
    {
     "name": "stdout",
     "output_type": "stream",
     "text": [
      "logm result may be inaccurate, approximate err = 3.3809399467082485e-13\n"
     ]
    },
    {
     "name": "stderr",
     "output_type": "stream",
     "text": [
      " 41%|████████████████████████████████▎                                             | 4100/9901 [26:34<48:19,  2.00it/s]"
     ]
    },
    {
     "name": "stdout",
     "output_type": "stream",
     "text": [
      "logm result may be inaccurate, approximate err = 3.1230852148216975e-13\n"
     ]
    },
    {
     "name": "stderr",
     "output_type": "stream",
     "text": [
      " 62%|█████████████████████████████████████████████▋                            | 6113/9901 [1:00:49<1:34:07,  1.49s/it]C:\\Users\\jiwon\\anaconda3\\envs\\main\\lib\\site-packages\\scipy\\linalg\\_matfuncs_inv_ssq.py:827: LogmExactlySingularWarning: The logm input matrix is exactly singular.\n",
      "  warnings.warn(exact_singularity_msg, LogmExactlySingularWarning)\n",
      " 78%|█████████████████████████████████████████████████████████▉                | 7751/9901 [1:58:40<1:10:22,  1.96s/it]"
     ]
    },
    {
     "name": "stdout",
     "output_type": "stream",
     "text": [
      "logm result may be inaccurate, approximate err = 3.5784425401693996e-13\n"
     ]
    },
    {
     "name": "stderr",
     "output_type": "stream",
     "text": [
      " 83%|███████████████████████████████████████████████████████████████▍            | 8261/9901 [2:15:14<58:10,  2.13s/it]"
     ]
    }
   ],
   "source": [
    "lyaps=[]\n",
    "cutoff=int(len(t_tot[0])*0.9)\n",
    "for i in tqdm(range(len(freqs))):\n",
    "    lyaps.append((Lyapunov(t_tot[freqs[i]-100][cutoff:], V1_tot[freqs[i]-100][cutoff:])))#, K=25, d_E=22, d_M=6, rM=0.05, rm=0.01)))"
   ]
  },
  {
   "cell_type": "code",
   "execution_count": 117,
   "metadata": {},
   "outputs": [],
   "source": [
    "max_lyaps=np.max(lyaps, axis=1)-5000\n",
    "Pos_lyap=np.where(max_lyaps>0)[0]\n",
    "Neg_lyap=np.where(max_lyaps<=0)[0]"
   ]
  },
  {
   "cell_type": "code",
   "execution_count": 116,
   "metadata": {},
   "outputs": [
    {
     "data": {
      "image/png": "[encoded data removed]",
      "text/plain": [
       "<Figure size 1728x288 with 1 Axes>"
      ]
     },
     "metadata": {},
     "output_type": "display_data"
    }
   ],
   "source": [
    "plt.figure(figsize=(24, 4))\n",
    "for i in range(len(freqspan)):\n",
    "    plt.plot(freqspan[i]*np.ones(len(lyaps[i])), lyaps[i], markersize=2, color='royalblue')\n",
    "plt.plot(freqspan, max_lyaps, ls='dashed')\n",
    "plt.axhline(0, color='black')\n",
    "plt.title('Lyapunov exponents')\n",
    "plt.xlabel('$f$ [Hz]')\n",
    "plt.xlim(100, 1000)\n",
    "#plt.ylim(5000,)\n",
    "plt.show()"
   ]
  }
 ],
 "metadata": {
  "kernelspec": {
   "display_name": "Python 3 (ipykernel)",
   "language": "python",
   "name": "python3"
  },
  "language_info": {
   "codemirror_mode": {
    "name": "ipython",
    "version": 3
   },
   "file_extension": ".py",
   "mimetype": "text/x-python",
   "name": "python",
   "nbconvert_exporter": "python",
   "pygments_lexer": "ipython3",
   "version": "3.10.0"
  },
  "varInspector": {
   "cols": {
    "lenName": 16,
    "lenType": 16,
    "lenVar": 40
   },
   "kernels_config": {
    "python": {
     "delete_cmd_postfix": "",
     "delete_cmd_prefix": "del ",
     "library": "var_list.py",
     "varRefreshCmd": "print(var_dic_list())"
    },
    "r": {
     "delete_cmd_postfix": ") ",
     "delete_cmd_prefix": "rm(",
     "library": "var_list.r",
     "varRefreshCmd": "cat(var_dic_list()) "
    }
   },
   "types_to_exclude": [
    "module",
    "function",
    "builtin_function_or_method",
    "instance",
    "_Feature"
   ],
   "window_display": false
  }
 },
 "nbformat": 4,
 "nbformat_minor": 2
}
