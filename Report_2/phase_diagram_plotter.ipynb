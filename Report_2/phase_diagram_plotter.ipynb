{
 "cells": [
  {
   "cell_type": "code",
   "execution_count": 2,
   "metadata": {},
   "outputs": [
    {
     "name": "stdout",
     "output_type": "stream",
     "text": [
      "<class 'dict'>\n",
      "dict_keys([0.05, 0.076, 0.103, 0.129, 0.155, 0.182, 0.208, 0.234, 0.261, 0.287, 0.314, 0.34, 0.366, 0.393, 0.419, 0.445, 0.472, 0.498, 0.524, 0.551, 0.577, 0.603, 0.63, 0.656, 0.682, 0.709, 0.735, 0.761, 0.788, 0.814, 0.841, 0.867, 0.893, 0.92, 0.946, 0.972, 0.999, 1.025, 1.051, 1.078, 1.104, 1.13, 1.157, 1.183, 1.209, 1.236, 1.262, 1.289, 1.315, 1.341, 1.368, 1.394, 1.42, 1.447, 1.473, 1.499, 1.526, 1.552, 1.578, 1.605, 1.631, 1.657, 1.684, 1.71, 1.736, 1.763, 1.789, 1.816, 1.842, 1.868, 1.895, 1.921, 1.947, 1.974, 2.0])\n"
     ]
    }
   ],
   "source": [
    "import numpy as np\n",
    "import pickle\n",
    "import matplotlib.pyplot as plt\n",
    "from tqdm import tqdm\n",
    "import scipy.fftpack as fft\n",
    "import matplotlib.gridspec as gs\n",
    "\n",
    "handle = open(\"phase_diagram.pkl\", 'rb')\n",
    "data=pickle.load(handle)\n",
    "handle.close()\n",
    "\n",
    "print(type(data))\n",
    "print(data[0.05].keys())"
   ]
  },
  {
   "cell_type": "code",
   "execution_count": 22,
   "metadata": {},
   "outputs": [
    {
     "name": "stderr",
     "output_type": "stream",
     "text": [
      "  0%|          | 0/200 [00:00<?, ?it/s]"
     ]
    },
    {
     "name": "stderr",
     "output_type": "stream",
     "text": [
      " 21%|██        | 42/200 [00:12<00:34,  4.55it/s]"
     ]
    }
   ],
   "source": [
    "for i in list(data.keys())[0:9]:\n",
    "    for j in tqdm(list(data[0.05].keys())):\n",
    "        fig = plt.figure(figsize=(6, 8))\n",
    "        grid = gs.GridSpec(4, 1, wspace=0.1)\n",
    "\n",
    "        plot = fig.add_subplot(grid[0:2, 0])\n",
    "        t, x, y = data[i][j][0][0], data[i][j][0][1], data[i][j][0][2], \n",
    "        Xf = fft.fft(x)\n",
    "        Yf = fft.fft(y)\n",
    "        samp = 1e5\n",
    "        tau = 1/samp # time interval\n",
    "\n",
    "        fre = fft.fftfreq(len(x), tau)\n",
    "        axs1 = plt.subplot(grid[2,0])\n",
    "        axs2 = plt.subplot(grid[3,0])\n",
    "\n",
    "        axs1.set_xlim(left=0, right=1000, emit=True, auto=False)\n",
    "        axs2.set_xlim(left=0, right=1000, emit=True, auto=False)\n",
    "\n",
    "        axs1.plot(fre[fre>=0], np.abs(Xf)[fre>=0])\n",
    "        axs2.plot(fre[fre>=0], np.abs(Yf)[fre>=0])\n",
    "\n",
    "        plot.scatter(x, y, s=0.3)\n",
    "        plot.set_xlabel(\"x\")\n",
    "        plot.set_ylabel(\"y\")\n",
    "        plot.set_title(\"Chua's circuit, freq: \" + str(j)+' amp: '+str(i))\n",
    "        plt.savefig('./result/amp_' + str(i) + '_freq_' + str(j) + '.png')\n",
    "        plt.close(\"all\")"
   ]
  }
 ],
 "metadata": {
  "kernelspec": {
   "display_name": "Python 3",
   "language": "python",
   "name": "python3"
  },
  "language_info": {
   "codemirror_mode": {
    "name": "ipython",
    "version": 3
   },
   "file_extension": ".py",
   "mimetype": "text/x-python",
   "name": "python",
   "nbconvert_exporter": "python",
   "pygments_lexer": "ipython3",
   "version": "3.11.5"
  }
 },
 "nbformat": 4,
 "nbformat_minor": 2
}
